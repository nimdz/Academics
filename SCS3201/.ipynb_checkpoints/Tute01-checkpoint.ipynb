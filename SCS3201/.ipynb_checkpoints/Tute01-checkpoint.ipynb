{
 "cells": [
  {
   "cell_type": "code",
   "execution_count": 1,
   "id": "d6a146cc-b2aa-446c-8ff2-296045c2865f",
   "metadata": {},
   "outputs": [],
   "source": [
    "import tensorflow as tf"
   ]
  },
  {
   "cell_type": "code",
   "execution_count": 3,
   "id": "c38c6d18-e4d4-46a9-bb64-1172c660ae35",
   "metadata": {},
   "outputs": [
    {
     "name": "stdout",
     "output_type": "stream",
     "text": [
      "TensorFlow version: 2.12.0\n",
      "b'hello world!'\n"
     ]
    }
   ],
   "source": [
    "print('TensorFlow version:', tf.__version__)\n",
    "hello = tf.constant(\"hello world!\")\n",
    "print(hello.numpy())"
   ]
  },
  {
   "cell_type": "code",
   "execution_count": 5,
   "id": "7e6bd2eb-63fd-45b1-a6e0-235473b52604",
   "metadata": {},
   "outputs": [
    {
     "data": {
      "text/plain": [
       "90"
      ]
     },
     "execution_count": 5,
     "metadata": {},
     "output_type": "execute_result"
    }
   ],
   "source": [
    "#factorial calculate\n",
    "def factorial(n):\n",
    "    if n==1:\n",
    "        return 0\n",
    "    else:\n",
    "        return n*(n-1)\n",
    "\n",
    "factorial(10)"
   ]
  },
  {
   "cell_type": "code",
   "execution_count": 6,
   "id": "112e6ee4-bca0-47ba-9c1a-0704bee11c83",
   "metadata": {},
   "outputs": [
    {
     "name": "stdout",
     "output_type": "stream",
     "text": [
      "Channels:\n",
      " - defaults\n",
      "Platform: osx-arm64\n",
      "Collecting package metadata (repodata.json): done\n",
      "Solving environment: done\n",
      "\n",
      "# All requested packages already installed.\n",
      "\n"
     ]
    }
   ],
   "source": [
    "!conda install numpy"
   ]
  },
  {
   "cell_type": "code",
   "execution_count": 7,
   "id": "3b062c19-3e8f-498d-ac79-ea08c2a37cdf",
   "metadata": {},
   "outputs": [],
   "source": [
    "import numpy as np"
   ]
  },
  {
   "cell_type": "code",
   "execution_count": 8,
   "id": "5c2dc125-a37e-4834-9205-f872de92d5d5",
   "metadata": {},
   "outputs": [
    {
     "data": {
      "text/plain": [
       "array([12, 15, 18, 21])"
      ]
     },
     "execution_count": 8,
     "metadata": {},
     "output_type": "execute_result"
    }
   ],
   "source": [
    "my_list =[12,15,18,21]\n",
    "array=np.array(my_list)\n",
    "array"
   ]
  },
  {
   "cell_type": "code",
   "execution_count": 9,
   "id": "ec9a32e0-d842-414b-b245-fbee09f0d94d",
   "metadata": {},
   "outputs": [
    {
     "data": {
      "text/plain": [
       "numpy.ndarray"
      ]
     },
     "execution_count": 9,
     "metadata": {},
     "output_type": "execute_result"
    }
   ],
   "source": [
    "type(array)"
   ]
  },
  {
   "cell_type": "code",
   "execution_count": 11,
   "id": "875da0ca-d9b4-474e-aaff-af378ccb9e6d",
   "metadata": {},
   "outputs": [
    {
     "data": {
      "text/plain": [
       "array([ 1,  3,  5,  7,  9, 11, 13, 15, 17, 19])"
      ]
     },
     "execution_count": 11,
     "metadata": {},
     "output_type": "execute_result"
    }
   ],
   "source": [
    "np.arange(1,20,2)"
   ]
  },
  {
   "cell_type": "code",
   "execution_count": 12,
   "id": "2b0a48eb-9e70-428e-9290-a456ac924ab9",
   "metadata": {},
   "outputs": [
    {
     "data": {
      "text/plain": [
       "array([0., 0., 0., 0., 0.])"
      ]
     },
     "execution_count": 12,
     "metadata": {},
     "output_type": "execute_result"
    }
   ],
   "source": [
    "np.zeros(5)"
   ]
  },
  {
   "cell_type": "code",
   "execution_count": null,
   "id": "e6b5ae87-78dd-4671-97a2-47c908197103",
   "metadata": {},
   "outputs": [],
   "source": []
  }
 ],
 "metadata": {
  "kernelspec": {
   "display_name": "Python 3 (ipykernel)",
   "language": "python",
   "name": "python3"
  },
  "language_info": {
   "codemirror_mode": {
    "name": "ipython",
    "version": 3
   },
   "file_extension": ".py",
   "mimetype": "text/x-python",
   "name": "python",
   "nbconvert_exporter": "python",
   "pygments_lexer": "ipython3",
   "version": "3.10.13"
  }
 },
 "nbformat": 4,
 "nbformat_minor": 5
}
